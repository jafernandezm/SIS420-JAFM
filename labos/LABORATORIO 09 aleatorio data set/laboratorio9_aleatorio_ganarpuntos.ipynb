{
  "cells": [
    {
      "cell_type": "markdown",
      "metadata": {
        "id": "kz8ypfw9Umor"
      },
      "source": [
        "# Ejercicio de programación Regresión Lineal Multiple"
      ]
    },
    {
      "cell_type": "code",
      "execution_count": 182,
      "metadata": {
        "id": "OR3aicTiUmou"
      },
      "outputs": [],
      "source": [
        "# utilizado para manejos de directorios y rutas\n",
        "import os\n",
        "\n",
        "# Computacion vectorial y cientifica para python\n",
        "import numpy as np\n",
        "\n",
        "# Librerias para graficación (trazado de gráficos)\n",
        "from matplotlib import pyplot\n",
        "from mpl_toolkits.mplot3d import Axes3D  # Necesario para graficar superficies 3D\n",
        "\n",
        "# llama a matplotlib a embeber graficas dentro de los cuadernillos\n",
        "%matplotlib inline"
      ]
    },
    {
      "cell_type": "code",
      "source": [],
      "metadata": {
        "id": "38_UuWL5ag3L"
      },
      "execution_count": 182,
      "outputs": []
    },
    {
      "cell_type": "markdown",
      "metadata": {
        "id": "g8k43PwjUmov"
      },
      "source": [
        "## 2 Regresión lineal con multiples variables\n",
        "\n",
        "Se implementa la regresion lineal multivariable para predecir el precio de las casas. El archivo `Datasets/ex1data2.txt` contiene un conjunto de entrenamiento de precios de casas en Portland, Oregon. La primera columna es el tamaño de la casa en metros cuadrados, la segunda columna es el numero de cuartos, y la tercera columna es el precio de la casa. \n",
        "\n",
        "<a id=\"section4\"></a>\n",
        "### 2.1 Normalización de caracteristicas\n",
        "\n",
        "Al visualizar los datos se puede observar que las caracteristicas tienen diferentes magnitudes, por lo cual se debe transformar cada valor en una escala de valores similares, esto con el fin de que el descenso por el gradiente pueda converger mas rapidamente."
      ]
    },
    {
      "cell_type": "code",
      "execution_count": 203,
      "metadata": {
        "colab": {
          "base_uri": "https://localhost:8080/"
        },
        "id": "zVLoSDUoUmow",
        "outputId": "6d611a4d-313a-40e2-fdf0-4f2dda5ab93a"
      },
      "outputs": [
        {
          "output_type": "stream",
          "name": "stdout",
          "text": [
            "  X[:,0] X[:, 1]         y\n",
            "--------------------------\n",
            "       1       1         1\n",
            "       2       1         2\n",
            "       3       1         3\n",
            "       4       1         4\n",
            "       5       1         5\n",
            "       6       1         6\n",
            "       7       1         7\n",
            "       8       1         8\n",
            "       9       1         9\n",
            "      10       1        10\n"
          ]
        }
      ],
      "source": [
        "# Cargar datos\n",
        "data = np.loadtxt(os.path.join('HepatitisCdata_ofi.csv'), delimiter=',',skiprows=1)\n",
        "X = data[:, :12]\n",
        "y = data[:, 0]\n",
        "m = y.size\n",
        "#1 =DONANTE DE SANGRE\n",
        "#2 =DONANDE DE SANGRE SOSPECHOSOS \n",
        "#3 =HEPATITIS\n",
        "#4 = FIBROSIS\n",
        "#5= cIFROSIS\n",
        "# imprimir algunos puntos de datos\n",
        "print('{:>8s}{:>8s}{:>10s}'.format('X[:,0]', 'X[:, 1]', 'y'))\n",
        "print('-'*26)\n",
        "for i in range(10):\n",
        "    print('{:8.0f}{:8.0f}{:10.0f}'.format(X[i, 0], X[i, 1], y[i]))"
      ]
    },
    {
      "cell_type": "markdown",
      "metadata": {
        "id": "f0r22CfPUmox"
      },
      "source": [
        "La desviación estándar es una forma de medir cuánta variación hay en el rango de valores de una característica en particular (la mayoría de los puntos caeran en un rango de ± 2 en relación a la desviaciones estándar de la media); esta es una alternativa a tomar el rango de valores (max-min). En `numpy`, se puede usar la función `std` para calcular la desviacion estandar. \n",
        "\n",
        "Por ejemplo, la caracteristica`X[:, 0]` contiene todos los valores de $x_1$ (tamaño de las casas) en el conjunto de entrenamiento, entonces `np.std(X[:, 0])` calcula la desviacion estandar de los tamaños de las casas.\n",
        "En el momento en que se llama a la función `featureNormalize`, la columna adicional de unos correspondiente a $ x_0 = 1 $ aún no se ha agregado a $ X $. \n",
        "\n",
        "<div class=\"alert alert-block alert-warning\">\n",
        "**Notas para la implementación:** Cuando se normalize una caracteristica, es importante almacenar los valores usados para la normalización - el valor de la media y el valor de la desviación estandar usado para los calculos. Despues de aprender los parametros del modelo, se deseara predecir los precios de casas que no se han visto antes. Dado un nuevo valor de x (area del living room y el numero de dormitorios), primero se debe normalizar x usando la media y la desviacion estandar que se empleo anteriormente en el conjunto de entrenamiento para entrenar el modelo.\n",
        "</div>\n",
        "<a id=\"featureNormalize\"></a>"
      ]
    },
    {
      "cell_type": "code",
      "execution_count": 204,
      "metadata": {
        "id": "KuetqA9EUmox"
      },
      "outputs": [],
      "source": [
        "def  featureNormalize(X):\n",
        "    X_norm = X.copy()\n",
        "    mu = np.zeros(X.shape[1])\n",
        "    sigma = np.zeros(X.shape[1])\n",
        "\n",
        "    mu = np.mean(X, axis = 0)\n",
        "    sigma = np.std(X, axis = 0)\n",
        "    X_norm = (X - mu) / sigma\n",
        "    \n",
        "    return X_norm, mu, sigma"
      ]
    },
    {
      "cell_type": "code",
      "execution_count": 205,
      "metadata": {
        "colab": {
          "base_uri": "https://localhost:8080/"
        },
        "id": "i04MurnTUmoy",
        "outputId": "b79b9cfa-cf3f-4054-f3bd-76acc93476ce"
      },
      "outputs": [
        {
          "output_type": "stream",
          "name": "stdout",
          "text": [
            "[[  1.     1.    32.   ...   6.93   3.23 106.  ]\n",
            " [  2.     1.    32.   ...  11.17   4.8   74.  ]\n",
            " [  3.     1.    32.   ...   8.84   5.2   86.  ]\n",
            " ...\n",
            " [613.     5.    64.   ...   1.66   3.63  66.7 ]\n",
            " [614.     5.    46.   ...   3.56   4.2   52.  ]\n",
            " [615.     5.    59.   ...   9.07   5.3   67.  ]]\n",
            "Media calculada: [308.           1.38699187  47.40813008   1.38699187  41.55252033\n",
            "  66.28536585  28.40455285  34.78634146  11.39674797   8.19663415\n",
            "   5.28081301  81.28780488]\n",
            "Desviación estandar calculada: [177.53497308   1.05143799  10.04692724   0.48706176   6.00991506\n",
            "  28.08946417  25.45406599  33.06377639  19.65714887   2.20386332\n",
            "   1.31189418  49.71569739]\n",
            "[[-1.72923675 -0.36805962 -1.53361617 ... -0.57473353 -1.56324576\n",
            "   0.49707027]\n",
            " [-1.72360406 -0.36805962 -1.53361617 ...  1.34916073 -0.36650289\n",
            "  -0.14658961]\n",
            " [-1.71797136 -0.36805962 -1.53361617 ...  0.29192639 -0.06160025\n",
            "   0.09478284]\n",
            " ...\n",
            " [ 1.71797136  3.43625413  1.65143725 ... -2.9659889  -1.25834312\n",
            "  -0.29342452]\n",
            " [ 1.72360406  3.43625413 -0.1401553  ... -2.10386647 -0.82385685\n",
            "  -0.58910578]\n",
            " [ 1.72923675  3.43625413  1.15377266 ...  0.39628857  0.01462541\n",
            "  -0.28739021]]\n"
          ]
        }
      ],
      "source": [
        "# llama featureNormalize con los datos cargados\n",
        "X_norm, mu, sigma = featureNormalize(X)\n",
        "\n",
        "print(X)\n",
        "print('Media calculada:', mu)\n",
        "print('Desviación estandar calculada:', sigma)\n",
        "print(X_norm)"
      ]
    },
    {
      "cell_type": "markdown",
      "metadata": {
        "id": "BclSes3bUmoz"
      },
      "source": [
        "Despues de `featureNormalize` la funcion es provada, se añade el temino de interseccion a `X_norm`:"
      ]
    },
    {
      "cell_type": "code",
      "execution_count": 206,
      "metadata": {
        "id": "28Q9IxbwUmoz"
      },
      "outputs": [],
      "source": [
        "# Añade el termino de interseccion a X\n",
        "# (Columna de unos para X0)\n",
        "X = np.concatenate([np.ones((m, 1)), X_norm], axis=1)"
      ]
    },
    {
      "cell_type": "code",
      "execution_count": 207,
      "metadata": {
        "colab": {
          "base_uri": "https://localhost:8080/"
        },
        "id": "dRRaG3jDUmo0",
        "outputId": "1cfcc68a-1fad-4151-da0f-951d4a3c5a41"
      },
      "outputs": [
        {
          "output_type": "stream",
          "name": "stdout",
          "text": [
            "[[ 1.         -1.72923675 -0.36805962 ... -0.57473353 -1.56324576\n",
            "   0.49707027]\n",
            " [ 1.         -1.72360406 -0.36805962 ...  1.34916073 -0.36650289\n",
            "  -0.14658961]\n",
            " [ 1.         -1.71797136 -0.36805962 ...  0.29192639 -0.06160025\n",
            "   0.09478284]\n",
            " ...\n",
            " [ 1.          1.71797136  3.43625413 ... -2.9659889  -1.25834312\n",
            "  -0.29342452]\n",
            " [ 1.          1.72360406  3.43625413 ... -2.10386647 -0.82385685\n",
            "  -0.58910578]\n",
            " [ 1.          1.72923675  3.43625413 ...  0.39628857  0.01462541\n",
            "  -0.28739021]]\n"
          ]
        }
      ],
      "source": [
        "print(X)"
      ]
    },
    {
      "cell_type": "markdown",
      "metadata": {
        "id": "hFVaMoHHUmo0"
      },
      "source": [
        "<a id=\"section5\"></a>\n",
        "### 2.2 Descenso por el gradiente\n",
        "\n",
        "En el ejemplo anterior se implemento el descenso por el gradiente para un problema de regresion univariable. La unica diferencia es que ahora existe una caracteristica adicional en la matriz $X$. La función de hipótesis y la regla de actualización del descenso del gradiente por lotes permanecen sin cambios.\n",
        "\n",
        "La implementacion de las funciones `computeCostMulti` y `gradientDescentMulti` son similares a la funcion de costo y función de descenso por el gradiente de la regresión lineal multiple es similar al de la regresion lineal multivariable. Es importante garantizar que el codigo soporte cualquier numero de caracteristicas y esten bien vectorizadas.\n",
        "\n",
        "Se puede utilizar `shape`, propiedad de los arrays `numpy`, para identificar cuantas caracteristicas estan consideradas en el dataset.\n",
        "\n",
        "<div class=\"alert alert-block alert-warning\">\n",
        "**Nota de implementación:** En el caso de multivariables, la función de costo puede se escrita considerando la forma vectorizada de la siguiente manera:\n",
        "\n",
        "$$ J(\\theta) = \\frac{1}{2m}(X\\theta - \\vec{y})^T(X\\theta - \\vec{y}) $$\n",
        "\n",
        "donde:\n",
        "\n",
        "$$ X = \\begin{pmatrix}\n",
        "          - (x^{(1)})^T - \\\\\n",
        "          - (x^{(2)})^T - \\\\\n",
        "          \\vdots \\\\\n",
        "          - (x^{(m)})^T - \\\\ \\\\\n",
        "        \\end{pmatrix} \\qquad \\mathbf{y} = \\begin{bmatrix} y^{(1)} \\\\ y^{(2)} \\\\ \\vdots \\\\ y^{(m)} \\\\\\end{bmatrix}$$\n",
        "\n",
        "La version vectorizada es eficiente cuando se trabaja con herramientas de calculo numericos computacional como `numpy`. \n",
        "</div>\n",
        "\n",
        "<a id=\"computeCostMulti\"></a>"
      ]
    },
    {
      "cell_type": "code",
      "execution_count": 208,
      "metadata": {
        "id": "CuPVb3jCUmo0"
      },
      "outputs": [],
      "source": [
        "def computeCostMulti(X, y, theta):\n",
        "    # Inicializa algunos valores utiles\n",
        "    m = y.shape[0] # numero de ejemplos de entrenamiento\n",
        "    \n",
        "    J = 0\n",
        "    \n",
        "    h = np.dot(X, theta)\n",
        "    \n",
        "    J = (1/(2 * m)) * np.sum(np.square(np.dot(X, theta) - y))\n",
        "    \n",
        "    return J\n"
      ]
    },
    {
      "cell_type": "code",
      "execution_count": 209,
      "metadata": {
        "id": "x-FJctLlUmo1"
      },
      "outputs": [],
      "source": [
        "def gradientDescentMulti(X, y, theta, alpha, num_iters):\n",
        "    \n",
        "    # Inicializa algunos valores \n",
        "    m = y.shape[0] # numero de ejemplos de entrenamiento\n",
        "    \n",
        "    # realiza una copia de theta, el cual será acutalizada por el descenso por el gradiente\n",
        "    theta = theta.copy()\n",
        "    \n",
        "    J_history = []\n",
        "    \n",
        "    for i in range(num_iters):\n",
        "        theta = theta - (alpha / m) * (np.dot(X, theta) - y).dot(X)\n",
        "        J_history.append(computeCostMulti(X, y, theta))\n",
        "    \n",
        "    return theta, J_history"
      ]
    },
    {
      "cell_type": "markdown",
      "metadata": {
        "id": "_TDXB-qfUmo1"
      },
      "source": [
        "#### 3.2.1 Seleccionando coheficientes de aprendizaje\n"
      ]
    },
    {
      "cell_type": "code",
      "execution_count": 211,
      "metadata": {
        "colab": {
          "base_uri": "https://localhost:8080/",
          "height": 390
        },
        "id": "ufxGc_3NUmo1",
        "outputId": "ee7012ab-45ec-4007-9c9e-d1aefd6aecdc"
      },
      "outputs": [
        {
          "output_type": "stream",
          "name": "stdout",
          "text": [
            "theta calculado por el descenso por el gradiente: [ 3.08000000e+02  1.77490498e+02  3.09329367e-02  1.66975469e-02\n",
            "  3.05554964e-02  9.03620214e-04 -2.48923944e-03 -3.93895538e-04\n",
            " -1.01237676e-03 -1.95785299e-03  3.27528013e-03  1.47419152e-03\n",
            " -1.16952514e-03]\n",
            "Segun el grandien la prediccion predicción de hepatitis (usando el descenso por el gradiente): % 37\n"
          ]
        },
        {
          "output_type": "display_data",
          "data": {
            "text/plain": [
              "<Figure size 432x288 with 1 Axes>"
            ],
            "image/png": "[encoded data removed]"
          },
          "metadata": {
            "needs_background": "light"
          }
        }
      ],
      "source": [
        "# Elegir algun valor para alpha (probar varias alternativas)\n",
        "alpha = 0.01\n",
        "num_iters = 10000\n",
        "\n",
        "# inicializa theta y ejecuta el descenso por el gradiente\n",
        "theta = np.zeros(13)\n",
        "theta, J_history = gradientDescentMulti(X, y, theta, alpha, num_iters)\n",
        "\n",
        "# Grafica la convergencia del costo\n",
        "pyplot.plot(np.arange(len(J_history)), J_history, lw=3)\n",
        "pyplot.xlabel('Numero de iteraciones')\n",
        "pyplot.ylabel('Costo J')\n",
        "\n",
        "# Muestra los resultados del descenso por el gradiente\n",
        "print('theta calculado por el descenso por el gradiente: {:s}'.format(str(theta)))\n",
        "\n",
        "# Estimar el precio para una casa de 1650 sq-ft, con 3 dormitorios\n",
        "X_array = [1,32,1,39.2,74.1,32.6,24.8,9.6,9.15,4.32,76,29.9,68.7]\n",
        "X_array[1:13] = (X_array[1:13] - mu) / sigma\n",
        "price = np.dot(X_array, theta)   # Se debe cambiar esto\n",
        "\n",
        "print('Segun el grandien la prediccion predicción de hepatitis (usando el descenso por el gradiente): % {:.0f}'.format(price))"
      ]
    },
    {
      "cell_type": "code",
      "execution_count": 213,
      "metadata": {
        "id": "gwo9v8EjUmo1"
      },
      "outputs": [],
      "source": [
        "X_array = [1, 21,1,33,1,44.3,49.8,32.1,21.6,13.1,7.44,5.59,103,30.2,74]\n",
        "X_array[1:13] = (X_array[1:13] - mu) / sigma"
      ]
    },
    {
      "cell_type": "code",
      "execution_count": 214,
      "metadata": {
        "id": "MjYUNI2xUmo2",
        "outputId": "930c6687-3158-40a0-c65b-37af52679cb8",
        "colab": {
          "base_uri": "https://localhost:8080/"
        }
      },
      "outputs": [
        {
          "output_type": "execute_result",
          "data": {
            "text/plain": [
              "[-1.6165828907974593,\n",
              " -0.3680596229507458,\n",
              " -1.4340832516364104,\n",
              " -0.7945437273983201,\n",
              " 0.4571578213539751,\n",
              " -0.5868878720963077,\n",
              " 0.1451810157379735,\n",
              " -0.3988153472429036,\n",
              " 0.0866479693447066,\n",
              " -0.34332171974618536,\n",
              " 0.23567982643624355,\n",
              " 0.43672715586621386,\n",
              " 30.2]"
            ]
          },
          "metadata": {},
          "execution_count": 214
        }
      ],
      "source": [
        "X_array[1:14]"
      ]
    },
    {
      "cell_type": "markdown",
      "metadata": {
        "id": "kM83VQe6Umo2"
      },
      "source": [
        "<a id=\"section7\"></a>\n",
        "### 2.3 Ecuacion de la Normal\n",
        "\n",
        "Una manera de calcular rapidamente el modelo de una regresion lineal es:\n",
        "\n",
        "$$ \\theta = \\left( X^T X\\right)^{-1} X^T\\vec{y}$$\n",
        "\n",
        "Utilizando esta formula no requiere que se escale ninguna caracteristica, y se obtendra una solucion exacta con un solo calculo: no hay “bucles de convergencia” como en el descenso por el gradiente. \n",
        "\n",
        "Primero se recargan los datos para garantizar que las variables no esten modificadas. Recordar que no es necesario escalar las caracteristicas, se debe agregar la columna de unos a la matriz $X$ para tener el termino de intersección($\\theta_0$). "
      ]
    },
    {
      "cell_type": "code",
      "execution_count": 215,
      "metadata": {
        "id": "8MIxWnC7Umo2"
      },
      "outputs": [],
      "source": [
        "# Cargar datos\n",
        "data = np.loadtxt(os.path.join( 'HepatitisCdata.csv'), delimiter=',',skiprows=1)\n",
        "X = data[:, :12]\n",
        "y = data[:, 1]\n",
        "m = y.size\n",
        "X = np.concatenate([np.ones((m, 1)), X], axis=1)"
      ]
    },
    {
      "cell_type": "code",
      "execution_count": 216,
      "metadata": {
        "id": "pJ6YFcO1Umo2"
      },
      "outputs": [],
      "source": [
        "def normalEqn(X, y):\n",
        "  \n",
        "    theta = np.zeros(X.shape[1])\n",
        "    \n",
        "    theta = np.dot(np.dot(np.linalg.inv(np.dot(X.T,X)),X.T),y)\n",
        "    \n",
        "    return theta"
      ]
    },
    {
      "cell_type": "code",
      "execution_count": 217,
      "metadata": {
        "id": "cGpUxxxQUmo3",
        "outputId": "59a4d2c3-12d0-41b1-f0b5-b63881ec6bd6",
        "colab": {
          "base_uri": "https://localhost:8080/"
        }
      },
      "outputs": [
        {
          "output_type": "stream",
          "name": "stdout",
          "text": [
            "Theta calculado a partir de la ecuación de la normal: [ 2.26041408e-13  6.17284002e-14  1.00000000e+00  6.06070749e-13\n",
            " -1.82709750e-14  1.63107375e-15 -1.34267597e-15 -7.63278329e-17\n",
            " -1.24206201e-15 -4.42423875e-14  1.19515509e-13 -5.54244151e-16\n",
            " -5.96744876e-16]\n",
            "Segun el grandien la prediccion predicción de hepatitis (usando el descenso por el gradiente) 33\n"
          ]
        }
      ],
      "source": [
        "# Calcula los parametros con la ecuación de la normal\n",
        "theta = normalEqn(X, y);\n",
        "\n",
        "# Muestra los resultados optenidos a partir de la aplicación de la ecuación de la normal\n",
        "print('Theta calculado a partir de la ecuación de la normal: {:s}'.format(str(theta)));\n",
        "\n",
        "# Estimar el precio para una casa de superficie de 1650 sq-ft y tres dormitorios\n",
        "\n",
        "X_array = [1,1,33,1,44.3,49.8,32.1,21.6,13.1,7.44,5.59,103,30.2]\n",
        "price = np.dot(X_array, theta) \n",
        "\n",
        "print('Segun el grandien la prediccion predicción de hepatitis (usando el descenso por el gradiente) {:.0f}'.format(price))"
      ]
    }
  ],
  "metadata": {
    "kernelspec": {
      "display_name": "Python 3",
      "language": "python",
      "name": "python3"
    },
    "language_info": {
      "codemirror_mode": {
        "name": "ipython",
        "version": 3
      },
      "file_extension": ".py",
      "mimetype": "text/x-python",
      "name": "python",
      "nbconvert_exporter": "python",
      "pygments_lexer": "ipython3",
      "version": "3.8.3"
    },
    "colab": {
      "provenance": []
    }
  },
  "nbformat": 4,
  "nbformat_minor": 0
}