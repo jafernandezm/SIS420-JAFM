{
 "cells": [
  {
   "cell_type": "code",
   "execution_count": 1,
   "id": "dadda76c",
   "metadata": {},
   "outputs": [],
   "source": [
    "def crear_mapa_laberinto(numero_filas, numero_columnas, numero_paredes, numero_espacios):\n",
    "\n",
    "# Se crea un mapa lleno de paredes\n",
    "\n",
    "    mapa_laberinto = []\n",
    "\n",
    "    numero_paredes_generadas = 0\n",
    "\n",
    "    for fila in range(0, numero_filas):\n",
    "\n",
    "        fila_mapa_laberinto = []\n",
    "\n",
    "        for columna in range(0, numero_columnas):\n",
    "\n",
    "#             if (random.randrange(2) == 1 and numero_paredes_generadas < numero_paredes):\n",
    "\n",
    " #                fila_mapa_laberinto.append('#')\n",
    "\n",
    "#                 numero_paredes_generadas += 1\n",
    "\n",
    "#             else:\n",
    "\n",
    " #                fila_mapa_laberinto.append(' ')\n",
    "\n",
    "            fila_mapa_laberinto.append('#')\n",
    "\n",
    "        mapa_laberinto.append(fila_mapa_laberinto)\n",
    "\n",
    "        \n",
    "\n",
    "#Se ubica aleatoriamente un punto de inicio y a partir de ese punto se llenan espacios\n",
    "\n",
    "    numero_espacios_generados = 0\n",
    "\n",
    "    fila_posicion_actual = random.randrange(numero_filas)\n",
    "\n",
    "    columna_posicion_actual = random.randrange(numero_columnas)\n",
    "\n",
    "    mapa_laberinto[fila_posicion_actual][columna_posicion_actual] = ' '\n",
    "\n",
    "    numero_espacios_generados += 1\n",
    "\n",
    "\n",
    "\n",
    "    while numero_espacios_generados < numero_espacios:\n",
    "\n",
    "        direccion = random.randrange(4)\n",
    "\n",
    "        if direccion == 0 and fila_posicion_actual > 0:\n",
    "\n",
    "            fila_posicion_actual -= 1\n",
    "\n",
    "        elif direccion == 1 and fila_posicion_actual < numero_filas - 1:\n",
    "\n",
    "            fila_posicion_actual += 1\n",
    "\n",
    "        elif direccion == 2 and columna_posicion_actual > 0:\n",
    "\n",
    "            columna_posicion_actual -= 1\n",
    "\n",
    "        else:\n",
    "\n",
    "            if columna_posicion_actual < numero_columnas - 1:\n",
    "\n",
    "                columna_posicion_actual += 1\n",
    "\n",
    "            \n",
    "\n",
    "        if mapa_laberinto[fila_posicion_actual][columna_posicion_actual] == '#':\n",
    "\n",
    "            mapa_laberinto[fila_posicion_actual][columna_posicion_actual] = ' '\n",
    "\n",
    "            numero_espacios_generados += 1\n",
    "\n",
    "            \n",
    "\n",
    "    return mapa_laberinto"
   ]
  },
  {
   "cell_type": "code",
   "execution_count": 2,
   "id": "26a72269",
   "metadata": {},
   "outputs": [
    {
     "name": "stdout",
     "output_type": "stream",
     "text": [
      "Introduzca el número de filas del laberinto: 7\n",
      "Introduzca el número de columnas del laberinto: 8\n",
      "Introduzca el número de paredes del laberinto: 30\n"
     ]
    }
   ],
   "source": [
    "import random\n",
    "numero_filas = int(input('Introduzca el número de filas del laberinto: '))\n",
    "\n",
    "numero_columnas = int(input('Introduzca el número de columnas del laberinto: '))\n",
    "\n",
    "numero_paredes = int(input('Introduzca el número de paredes del laberinto: '))\n",
    "\n",
    "numero_espacios = numero_filas * numero_columnas - numero_paredes"
   ]
  },
  {
   "cell_type": "code",
   "execution_count": 10,
   "id": "140c5f73",
   "metadata": {},
   "outputs": [
    {
     "name": "stdout",
     "output_type": "stream",
     "text": [
      "[' ', ' ', ' ', ' ', ' ', ' ', ' ', ' ']\n",
      "[' ', ' ', ' ', ' ', ' ', ' ', ' ', '#']\n",
      "[' ', ' ', ' ', ' ', ' ', ' ', ' ', '#']\n",
      "[' ', ' ', ' ', '#', '#', '#', '#', '#']\n",
      "[' ', '#', '#', '#', '#', '#', '#', '#']\n",
      "['#', '#', '#', '#', '#', '#', '#', '#']\n",
      "['#', '#', '#', '#', '#', '#', '#', '#']\n"
     ]
    }
   ],
   "source": [
    "laberinto = crear_mapa_laberinto(numero_filas, numero_columnas, numero_paredes, numero_espacios)\n",
    "\n",
    "\n",
    "\n",
    "for fila_mapa_laberinto in laberinto:\n",
    "\n",
    "    print(fila_mapa_laberinto)"
   ]
  },
  {
   "cell_type": "code",
   "execution_count": null,
   "id": "81bafc40",
   "metadata": {},
   "outputs": [],
   "source": []
  }
 ],
 "metadata": {
  "kernelspec": {
   "display_name": "Python 3",
   "language": "python",
   "name": "python3"
  },
  "language_info": {
   "codemirror_mode": {
    "name": "ipython",
    "version": 3
   },
   "file_extension": ".py",
   "mimetype": "text/x-python",
   "name": "python",
   "nbconvert_exporter": "python",
   "pygments_lexer": "ipython3",
   "version": "3.8.8"
  }
 },
 "nbformat": 4,
 "nbformat_minor": 5
}
